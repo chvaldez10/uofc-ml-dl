{
 "cells": [
  {
   "cell_type": "code",
   "execution_count": 1,
   "metadata": {},
   "outputs": [
    {
     "name": "stdout",
     "output_type": "stream",
     "text": [
      "Run ID: 1bk7w3jn\n",
      "Name: test-run-efficientnet-25epochs\n",
      "Run ID: 41txkhq1\n",
      "Name: test-run-resnet18-25epochs\n",
      "Run ID: m107un99\n",
      "Name: test-run\n",
      "Run ID: 2kcvorvl\n",
      "Name: test-run-data_aug\n",
      "Run ID: ip031zfr\n",
      "Name: test-run-GPU-5folds\n",
      "Run ID: acltcayh\n",
      "Name: test-run\n",
      "Run ID: oqin57v5\n",
      "Name: test-run-GPU2\n",
      "Run ID: qfuiswkd\n",
      "Name: test-run\n",
      "Run ID: fnbylxw8\n",
      "Name: test-run\n",
      "Run ID: up0q9aj7\n",
      "Name: test-run\n",
      "Run ID: 1jfvffk3\n",
      "Name: test-run-gpu1\n",
      "Run ID: e25ux8mq\n",
      "Name: test-run\n",
      "Run ID: slpldwxk\n",
      "Name: test-run-t3\n",
      "Run ID: bhydx0o5\n",
      "Name: test-run\n",
      "Run ID: 96364ntk\n",
      "Name: test-run\n",
      "Run ID: we4x1c7s\n",
      "Name: test-run\n",
      "Run ID: 61r65eua\n",
      "Name: test-run\n",
      "Run ID: j0yqpkge\n",
      "Name: test-run\n",
      "Run ID: bkxfpk7s\n",
      "Name: test-run\n"
     ]
    }
   ],
   "source": [
    "# import wandb\n",
    "# api = wandb.Api()\n",
    "# run = api.run(\"enel-645-garbage-classifier/runs/xjrorumz\")\n",
    "# # Show history data:\n",
    "# print(\"History from WandB:\\n\")\n",
    "# print(run.history())\n",
    "\n",
    "\n",
    "# ############ chat ##############\n",
    "# import wandb\n",
    "\n",
    "# # Initialize a wandb API object\n",
    "# api = wandb.Api()\n",
    "\n",
    "# # Specify the run path \"entity/project/run_id\"\n",
    "# # run_path = \"entity/project/run_id\"\n",
    "# run_path = \"enel-645-garbage-classifier/runs/xjrorumz\"\n",
    "\n",
    "\n",
    "# # Access the run\n",
    "# run = api.run(run_path)\n",
    "\n",
    "# # Access run data\n",
    "# print(\"Name:\", run.name)\n",
    "# print(\"Tags:\", run.tags)\n",
    "# print(\"Notes:\", run.notes)\n",
    "# print(\"Config:\", run.config)\n",
    "\n",
    "# # To get metrics logged during the run\n",
    "# history = run.history()\n",
    "# # print(history)  # Print available keys/metrics\n",
    "# # print(history['accuracy'])  # Example to access the accuracy metric\n",
    "\n",
    "############ wandb ##############\n",
    "# https://docs.wandb.ai/guides/track/public-api-guide#querying-multiple-runs\n",
    "\n",
    "import pandas as pd\n",
    "import wandb\n",
    "\n",
    "\n",
    "api = wandb.Api()\n",
    "# entity, project = \"enel-645\", \"enel-645-garbage-classifier\" # Redge's\n",
    "entity, project = \"meng_team\", \"enel-645-garbage-classifier\" # Carissa's \n",
    "runs = api.runs(entity + \"/\" + project)\n",
    "\n",
    "summary_list, config_list, name_list = [], [], []\n",
    "for run in runs:\n",
    "    # .summary contains output keys/values for\n",
    "    # metrics such as accuracy.\n",
    "    #  We call ._json_dict to omit large files\n",
    "    summary_list.append(run.summary._json_dict)\n",
    "\n",
    "    # .config contains the hyperparameters.\n",
    "    #  We remove special values that start with _.\n",
    "    config_list.append({k: v for k, v in run.config.items() if not k.startswith(\"_\")})\n",
    "\n",
    "    # .name is the human-readable name of the run.\n",
    "    name_list.append(run.name)\n",
    "\n",
    "    print(\"Run ID:\", run.id)\n",
    "    print(\"Name:\", run.name)\n",
    "\n",
    "runs_df = pd.DataFrame(\n",
    "    {\"summary\": summary_list, \"config\": config_list, \"name\": name_list}\n",
    ")"
   ]
  },
  {
   "cell_type": "code",
   "execution_count": 2,
   "metadata": {},
   "outputs": [],
   "source": [
    "# runs_df.to_csv(\"project.csv\")\n"
   ]
  },
  {
   "cell_type": "code",
   "execution_count": 6,
   "metadata": {},
   "outputs": [
    {
     "data": {
      "text/plain": [
       "summary    {'val_loss': 57.91753879189491, '_timestamp': ...\n",
       "config     {'epochs': 25, 'dataset': 'CVPR_2024_dataset',...\n",
       "name                          test-run-efficientnet-25epochs\n",
       "Name: 0, dtype: object"
      ]
     },
     "metadata": {},
     "output_type": "display_data"
    }
   ],
   "source": [
    "display(runs_df.iloc[0])"
   ]
  },
  {
   "cell_type": "code",
   "execution_count": null,
   "metadata": {},
   "outputs": [],
   "source": [
    "display(runs_df[1])"
   ]
  }
 ],
 "metadata": {
  "kernelspec": {
   "display_name": "enel645",
   "language": "python",
   "name": "python3"
  },
  "language_info": {
   "codemirror_mode": {
    "name": "ipython",
    "version": 3
   },
   "file_extension": ".py",
   "mimetype": "text/x-python",
   "name": "python",
   "nbconvert_exporter": "python",
   "pygments_lexer": "ipython3",
   "version": "3.12.1"
  }
 },
 "nbformat": 4,
 "nbformat_minor": 2
}
